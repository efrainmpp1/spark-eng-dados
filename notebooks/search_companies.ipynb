{
 "cells": [
  {
   "cell_type": "code",
   "execution_count": 1,
   "id": "272b33fa",
   "metadata": {},
   "outputs": [
    {
     "name": "stdout",
     "output_type": "stream",
     "text": [
      "Requirement already satisfied: pyspark in /usr/local/lib/python3.9/dist-packages (3.4.0)\n",
      "Collecting findspark\n",
      "  Downloading findspark-2.0.1-py2.py3-none-any.whl (4.4 kB)\n",
      "Requirement already satisfied: py4j==0.10.9.7 in /usr/local/lib/python3.9/dist-packages (from pyspark) (0.10.9.7)\n",
      "Installing collected packages: findspark\n",
      "Successfully installed findspark-2.0.1\n"
     ]
    }
   ],
   "source": [
    "# Instale as dependências necessárias\n",
    "!pip install pyspark findspark"
   ]
  },
  {
   "cell_type": "code",
   "execution_count": 2,
   "id": "5881b1b3",
   "metadata": {},
   "outputs": [
    {
     "data": {
      "text/plain": [
       "'postgresql-42.7.0 (1).jar'"
      ]
     },
     "execution_count": 2,
     "metadata": {},
     "output_type": "execute_result"
    }
   ],
   "source": [
    "import wget\n",
    "wget.download(\"https://jdbc.postgresql.org/download/postgresql-42.7.0.jar\")"
   ]
  },
  {
   "cell_type": "code",
   "execution_count": 3,
   "id": "b3f9b587",
   "metadata": {},
   "outputs": [
    {
     "name": "stderr",
     "output_type": "stream",
     "text": [
      "/usr/local/lib/python3.9/dist-packages/pyspark/bin/load-spark-env.sh: line 68: ps: command not found\n",
      "23/12/03 13:32:39 WARN NativeCodeLoader: Unable to load native-hadoop library for your platform... using builtin-java classes where applicable\n",
      "Setting default log level to \"WARN\".\n",
      "To adjust logging level use sc.setLogLevel(newLevel). For SparkR, use setLogLevel(newLevel).\n"
     ]
    }
   ],
   "source": [
    "from pyspark.sql import SparkSession\n",
    "\n",
    "# Configuração do Spark\n",
    "spark = SparkSession.builder \\\n",
    "    .appName(\"Nome do Aplicativo\") \\\n",
    "    .config(\"spark.jars\", \"./postgresql-42.7.0.jar\") \\\n",
    "    .config(\"spark.driver.extraClassPath\", \"./postgresql-42.7.0.jar\") \\\n",
    "    .master(\"spark://spark-master:7077\")\\\n",
    "    .config(\"spark.executor.memory\", \"512m\")\\\n",
    "    .getOrCreate()"
   ]
  },
  {
   "cell_type": "code",
   "execution_count": 4,
   "id": "f65351a9",
   "metadata": {},
   "outputs": [],
   "source": [
    "# Conectar ao banco de dados\n",
    "jdbc_url = \"jdbc:postgresql://172.22.0.2:5432/teste_db\"\n",
    "properties = {\n",
    "    \"user\": \"root\",\n",
    "    \"password\": \"root\",\n",
    "    \"driver\": \"org.postgresql.Driver\"\n",
    "}\n",
    "\n",
    "df = spark.read.jdbc(jdbc_url, \"livros\", properties=properties)"
   ]
  },
  {
   "cell_type": "code",
   "execution_count": 5,
   "id": "2eefc979",
   "metadata": {},
   "outputs": [
    {
     "name": "stderr",
     "output_type": "stream",
     "text": [
      "                                                                                \r"
     ]
    }
   ],
   "source": [
    "# Realizar a leitura em chunks do arquivo CSV\n",
    "data_chunks = spark.read.option(\"encoding\", \"ISO-8859-1\") \\\n",
    "    .option(\"sep\", \";\") \\\n",
    "    .option(\"header\", False) \\\n",
    "    .option(\"inferSchema\", False) \\\n",
    "    .csv(\"/opt/workspace/datain/estabelecimentos/*.csv\")"
   ]
  },
  {
   "cell_type": "code",
   "execution_count": 7,
   "id": "86e2f58b",
   "metadata": {},
   "outputs": [
    {
     "data": {
      "text/plain": [
       "['_c0',\n",
       " '_c1',\n",
       " '_c2',\n",
       " '_c3',\n",
       " '_c4',\n",
       " '_c5',\n",
       " '_c6',\n",
       " '_c7',\n",
       " '_c8',\n",
       " '_c9',\n",
       " '_c10',\n",
       " '_c11',\n",
       " '_c12',\n",
       " '_c13',\n",
       " '_c14',\n",
       " '_c15',\n",
       " '_c16',\n",
       " '_c17',\n",
       " '_c18',\n",
       " '_c19',\n",
       " '_c20',\n",
       " '_c21',\n",
       " '_c22',\n",
       " '_c23',\n",
       " '_c24',\n",
       " '_c25',\n",
       " '_c26',\n",
       " '_c27',\n",
       " '_c28',\n",
       " '_c29']"
      ]
     },
     "execution_count": 7,
     "metadata": {},
     "output_type": "execute_result"
    }
   ],
   "source": [
    "data_chunks.columns"
   ]
  },
  {
   "cell_type": "code",
   "execution_count": 8,
   "id": "db9f20d3",
   "metadata": {},
   "outputs": [],
   "source": [
    "# rename the columns\n",
    "old_columns = data_chunks.columns\n",
    "new_columns = ['cnpj_basico', 'cnpj_ordem', 'cnpj_dv','id_matriz_filial','nome_fantasia','situacao_cadastral','data_situacao_cadastral',\n",
    "'motivo_situacao_cadastral','nome_exterior','pais','data_inicio_atividade','cnae_pri','cnae_sec','tipo_logradouro','logradouro','numero','complemento','bairro','cep','uf','municipio','dd1','telefone1','dd2','telefone2','ddd_fax','fax','email','situacao_especial','data_situacao_especial']\n",
    "\n",
    "def renameCols(df, old_columns, new_columns):\n",
    "    for old_col,new_col in zip(old_columns,new_columns):\n",
    "        df = df.withColumnRenamed(old_col,new_col)\n",
    "    return df\n",
    "\n",
    "df = renameCols(data_chunks, old_columns, new_columns)"
   ]
  },
  {
   "cell_type": "code",
   "execution_count": 9,
   "id": "e46eb460",
   "metadata": {},
   "outputs": [
    {
     "data": {
      "text/plain": [
       "['cnpj_basico',\n",
       " 'cnpj_ordem',\n",
       " 'cnpj_dv',\n",
       " 'id_matriz_filial',\n",
       " 'nome_fantasia',\n",
       " 'situacao_cadastral',\n",
       " 'data_situacao_cadastral',\n",
       " 'motivo_situacao_cadastral',\n",
       " 'nome_exterior',\n",
       " 'pais',\n",
       " 'data_inicio_atividade',\n",
       " 'cnae_pri',\n",
       " 'cnae_sec',\n",
       " 'tipo_logradouro',\n",
       " 'logradouro',\n",
       " 'numero',\n",
       " 'complemento',\n",
       " 'bairro',\n",
       " 'cep',\n",
       " 'uf',\n",
       " 'municipio',\n",
       " 'dd1',\n",
       " 'telefone1',\n",
       " 'dd2',\n",
       " 'telefone2',\n",
       " 'ddd_fax',\n",
       " 'fax',\n",
       " 'email',\n",
       " 'situacao_especial',\n",
       " 'data_situacao_especial']"
      ]
     },
     "execution_count": 9,
     "metadata": {},
     "output_type": "execute_result"
    }
   ],
   "source": [
    "df.columns"
   ]
  },
  {
   "cell_type": "code",
   "execution_count": 10,
   "id": "6e011d29",
   "metadata": {},
   "outputs": [
    {
     "name": "stderr",
     "output_type": "stream",
     "text": [
      "23/12/03 13:36:30 WARN package: Truncated the string representation of a plan since it was too large. This behavior can be adjusted by setting 'spark.sql.debug.maxToStringFields'.\n"
     ]
    },
    {
     "name": "stdout",
     "output_type": "stream",
     "text": [
      "+-----------+----------+-------+----------------+-----------------+------------------+-----------------------+-------------------------+-------------+----+---------------------+--------+--------------------+---------------+--------------------+------+--------------+---------------+--------+---+---------+---+---------+----+---------+-------+--------+--------------------+-----------------+----------------------+\n",
      "|cnpj_basico|cnpj_ordem|cnpj_dv|id_matriz_filial|    nome_fantasia|situacao_cadastral|data_situacao_cadastral|motivo_situacao_cadastral|nome_exterior|pais|data_inicio_atividade|cnae_pri|            cnae_sec|tipo_logradouro|          logradouro|numero|   complemento|         bairro|     cep| uf|municipio|dd1|telefone1| dd2|telefone2|ddd_fax|     fax|               email|situacao_especial|data_situacao_especial|\n",
      "+-----------+----------+-------+----------------+-----------------+------------------+-----------------------+-------------------------+-------------+----+---------------------+--------+--------------------+---------------+--------------------+------+--------------+---------------+--------+---+---------+---+---------+----+---------+-------+--------+--------------------+-----------------+----------------------+\n",
      "|   09562680|      0001|     01|               1|       AUDIO TECH|                08|               20210720|                       01|         null|null|             20080509| 4757100|             9521500|            RUA|NICANOR DE VASCON...|    71|          null|JARDIM BRASILIA|02859060| SP|     7107| 11| 39416134|null|     null|     11|39416134|ORG.CONT.MORAES@B...|             null|                  null|\n",
      "|   09562693|      0001|     80|               1|             null|                02|               20080515|                       00|         null|null|             20080515| 0151201|             0151202|        CHÁCARA|        DONA MARIANA|   S/N|          null|          RURAL|18618000| SP|     6249| 14| 38157550|null|     null|     14|38157550|   meconn@uol.com.br|             null|                  null|\n",
      "|   08525612|      0002|     90|               2|             null|                08|               20170519|                       37|         null|null|             20080516| 0131800|0133404,0133402,0...|          SÍTIO|            SAO JOSE|   S/N|          null| CORREGO DO BOI|15730000| SP|     6683| 17| 36951245|  17| 36951101|     17|36951101|escritorioruralma...|             null|                  null|\n",
      "|   09562715|      0001|     02|               1|OASIS RESTAURANTE|                02|               20080423|                       00|         null|null|             20080423| 5611201|5611203,4721102,4...|            RUA|       TEOFILO OTONI|   224|        ANEXO;|         CENTRO|35700007| MG|     5343| 31| 21076129|null|     null|   null|    null|OASISRESTAURANTE2...|             null|                  null|\n",
      "|   09562730|      0001|     50|               1|             null|                08|               20180806|                       01|         null|null|             20080506| 7729203|             4773300|        AVENIDA|PROFESSOR MANOEL ...|   238|ANDAR 1 SALA 5|   PARQUE BAHIA|06717100| SP|     6361| 11| 46161685|null|     null|     11|46161685|contabilmesquita@...|             null|                  null|\n",
      "+-----------+----------+-------+----------------+-----------------+------------------+-----------------------+-------------------------+-------------+----+---------------------+--------+--------------------+---------------+--------------------+------+--------------+---------------+--------+---+---------+---+---------+----+---------+-------+--------+--------------------+-----------------+----------------------+\n",
      "only showing top 5 rows\n",
      "\n"
     ]
    }
   ],
   "source": [
    "df.show(5)"
   ]
  },
  {
   "cell_type": "code",
   "execution_count": 11,
   "id": "57184dd7",
   "metadata": {},
   "outputs": [],
   "source": [
    "from pyspark.sql import functions as F\n",
    "data_filtered = df.filter((F.col(\"cnae_pri\") == 8121400) & (F.col(\"uf\") == 'RN'))"
   ]
  },
  {
   "cell_type": "code",
   "execution_count": 12,
   "id": "a64acf2d",
   "metadata": {},
   "outputs": [
    {
     "name": "stderr",
     "output_type": "stream",
     "text": [
      "                                                                                \r"
     ]
    },
    {
     "data": {
      "text/plain": [
       "51"
      ]
     },
     "execution_count": 12,
     "metadata": {},
     "output_type": "execute_result"
    }
   ],
   "source": [
    "data_filtered.count()"
   ]
  },
  {
   "cell_type": "code",
   "execution_count": 13,
   "id": "2dbf10b4",
   "metadata": {},
   "outputs": [
    {
     "name": "stderr",
     "output_type": "stream",
     "text": [
      "[Stage 6:=============================>                             (2 + 2) / 4]\r"
     ]
    },
    {
     "name": "stdout",
     "output_type": "stream",
     "text": [
      "+-----------+----------+-------+----------------+--------------------+------------------+-----------------------+-------------------------+-------------+----+---------------------+--------+--------------------+---------------+--------------------+------+--------------------+-------------------+--------+---+---------+----+---------+----+---------+-------+----+--------------------+-----------------+----------------------+\n",
      "|cnpj_basico|cnpj_ordem|cnpj_dv|id_matriz_filial|       nome_fantasia|situacao_cadastral|data_situacao_cadastral|motivo_situacao_cadastral|nome_exterior|pais|data_inicio_atividade|cnae_pri|            cnae_sec|tipo_logradouro|          logradouro|numero|         complemento|             bairro|     cep| uf|municipio| dd1|telefone1| dd2|telefone2|ddd_fax| fax|               email|situacao_especial|data_situacao_especial|\n",
      "+-----------+----------+-------+----------------+--------------------+------------------+-----------------------+-------------------------+-------------+----+---------------------+--------+--------------------+---------------+--------------------+------+--------------------+-------------------+--------+---+---------+----+---------+----+---------+-------+----+--------------------+-----------------+----------------------+\n",
      "|   10541061|      0001|     10|               1|                null|                02|               20081211|                       00|         null|null|             20081211| 8121400|9700500,5223100,4...|        AVENIDA|      RIO BRANCO 571|   571|          SALA: 405;|        CIDADE ALTA|59025906| RN|     1761|  84| 30825119|null|     null|   null|null|NVIEIRA2004@YAHOO...|             null|                  null|\n",
      "|   10605133|      0001|     45|               1|LARIZA SERVICOS E...|                04|               20190329|                       63|         null|null|             20090120| 8121400|             4712100|            RUA|  MIRAMAR DO POTENGI|   132|                   B|            ALECRIM|59040084| RN|     1761|  84| 32121397|null|     null|   null|null|assecon_01@hotmai...|             null|                  null|\n",
      "|   11089148|      0001|     60|               1|J L ADMINISTRACAO...|                04|               20181107|                       63|         null|null|             20090806| 8121400|                null|            RUA|TRIANGULO DAS BER...|    63|                null|         LAGOA AZUL|59129700| RN|     1761|  84| 36616196|null|     null|   null|null|  wgcontab@oi.com.br|             null|                  null|\n",
      "|   11573006|      0001|     74|               1|                null|                04|               20210423|                       63|         null|null|             20100219| 8121400|                null|            RUA|       JOAO PAULO II|    36|                null|        CIDADE NOVA|59072720| RN|     1761|  84| 32054283|null|     null|   null|null|                null|             null|                  null|\n",
      "|   12905570|      0001|     00|               1|RN CLEAN LIMPEZA ...|                08|               20110620|                       01|         null|null|             20101122| 8121400|4330499,4311802,8...|            RUA|       MONTE CARMELO|  2938|       CONJ  PIRANGI|           NEOPOLIS|59086490| RN|     1761|  84| 32236894|null|     null|   null|null|rogeriorpaulo@hot...|             null|                  null|\n",
      "|   08836478|      0001|     68|               1|F G PRESTADORA DE...|                08|               20150209|                       73|         null|null|             20070518| 8121400|4311802,8129000,4...|            RUA|          JOAO XXIII|  1175|                   A|          MAE LUIZA|59014000| RN|     1761|  84| 30917925|null|     null|   null|null|                null|             null|                  null|\n",
      "|   01779054|      0001|     60|               1|                null|                08|               20081231|                       71|         null|null|             19970416| 8121400|             8129000|            RUA|        CELINA VIANA| S/N A|                null|       LIBERDADE II|59633470| RN|     1759|null|     null|null|     null|   null|null|                null|             null|                  null|\n",
      "|   03499494|      0001|     99|               1|         POLISERVISE|                01|               19991111|                       11|         null|null|             19991111| 8121400|             8129000|            RUA|PROFESSOR LUIZ MA...|    17|  LOTEAMENTO ALIANCA|N.S.DA APRESENTACAO|59115090| RN|     1761|null|     null|null|     null|   null|null|                null|             null|                  null|\n",
      "|   02026820|      0001|     88|               1|                null|                04|               20190326|                       63|         null|null|             19970811| 8121400|     8111700,8129000|            RUA|CONEGO LUIZ WANDE...|    47|             LETRA A|         LAGOA NOVA|59054620| RN|     1761|  84| 32235356|null|     null|   null|null|grupogarra@ig.com.br|             null|                  null|\n",
      "|   04028488|      0001|     16|               1|      J. M. SERVICOS|                08|               20150209|                       73|         null|null|             20000904| 8121400|             8129000|            RUA|      XV DE NOVEMBRO|  590A|                null|         DOM ELIZEU|59650000| RN|     1603|null|     null|null|     null|   null|null|                null|             null|                  null|\n",
      "|   02326559|      0001|     31|               1|             COMLIMP|                04|               20181107|                       63|         null|null|             19980120| 8121400|             8129000|            RUA|        IRMA ALOISIA|   105|                null|             CENTRO|59592000| RN|     0414|null|     null|null|     null|   null|null|                null|             null|                  null|\n",
      "|   02373192|      0001|     07|               1|            PIRAMIDE|                04|               20181107|                       63|         null|null|             19980219| 8121400|     5231102,8129000|            RUA|    BARAO DE MIPIMBU|    56|LJ 09 GAL FREE POINT|             CENTRO|59162000| RN|     1841|null|     null|null|     null|   null|null|                null|             null|                  null|\n",
      "|   35656248|      0001|     90|               1|    SOS CAIXA D'AGUA|                08|               19920807|                       09|         null|null|             19910709| 8121400|             8129000|            RUA|      BELO HORIZONTE|   266|                null|              ROCAS|59010280| RN|     1761|null|     null|null|     null|   null|null|                null|             null|                  null|\n",
      "|   01190285|      0001|     33|               1|                null|                04|               20181107|                       63|         null|null|             19960513| 8121400|             8129000|            RUA|      DOS LAVRADORES|    57|                null|N S DA APRESENTACAO|59114600| RN|     1761|null|     null|null|     null|   null|null|                null|             null|                  null|\n",
      "|   06263462|      0001|     88|               1|                null|                08|               20161014|                       01|         null|null|             20040514| 8121400|             8129000|            RUA|DESEMBARGADOR SIL...|    08|                null|             CENTRO|59655000| RN|     1621|null|     null|null|     null|   null|null|                null|             null|                  null|\n",
      "|   01380152|      0001|     20|               1|        T.G. SERVIOS|                08|               20150209|                       73|         null|null|             19960821| 8121400|             8129000|            RUA|          GRANJA ABC|    17|                null|     FELIPE CAMARAO|59068280| RN|     1761|null|     null|null|     null|   null|null|                null|             null|                  null|\n",
      "|   40788192|      0001|     67|               1|  DEDETIZACAO SANTOS|                08|               20081231|                       71|         null|null|             19920715| 8121400|             8129000|            RUA|             DO LIMA|    15|                null|CIDADE DA ESPERANCA|59070220| RN|     1761|null|     null|null|     null|   null|null|                null|             null|                  null|\n",
      "|   24534976|      0001|     02|               1|                null|                08|               20081231|                       71|         null|null|             19891129| 8121400|             8129000|            RUA|  PRUDENTE DE MORAIS|   487|                null|      SANTO ANTONIO|59611100| RN|     1759|null|     null|null|     null|   null|null|                null|             null|                  null|\n",
      "|   24593279|      0001|     22|               1|M F ARAUJO PRESTA...|                08|               20040903|                       01|         null|null|             19900329| 8121400|             8129000|            RUA|              RECIFE|    82|                null|CIDADE DA ESPERANCA|59070350| RN|     1761|null|     null|null|     null|   null|null|                null|             null|                  null|\n",
      "|   07316325|      0001|     27|               1|EMSERFAL -EMPRESA...|                02|               20050331|                       00|         null|null|             20050331| 8121400|     8129000,4330404|            RUA|    PRIMEIRO DE MAIO|   769|                null|        CIDADE NOVA|59072680| RN|     1761|  84|  2110042|null|     null|   null|null|                null|             null|                  null|\n",
      "+-----------+----------+-------+----------------+--------------------+------------------+-----------------------+-------------------------+-------------+----+---------------------+--------+--------------------+---------------+--------------------+------+--------------------+-------------------+--------+---+---------+----+---------+----+---------+-------+----+--------------------+-----------------+----------------------+\n",
      "only showing top 20 rows\n",
      "\n"
     ]
    },
    {
     "name": "stderr",
     "output_type": "stream",
     "text": [
      "                                                                                \r"
     ]
    }
   ],
   "source": [
    "data_filtered.show()"
   ]
  },
  {
   "cell_type": "code",
   "execution_count": 14,
   "id": "f9a89187",
   "metadata": {},
   "outputs": [],
   "source": [
    "data_chunks1 = spark.read.option(\"encoding\", \"ISO-8859-1\") \\\n",
    "    .option(\"sep\", \";\") \\\n",
    "    .option(\"header\", False) \\\n",
    "    .option(\"inferSchema\", False) \\\n",
    "    .csv(\"./datain/empresas.csv\")"
   ]
  },
  {
   "cell_type": "code",
   "execution_count": 16,
   "id": "e5ac823e",
   "metadata": {},
   "outputs": [
    {
     "data": {
      "text/plain": [
       "['_c0', '_c1', '_c2', '_c3', '_c4', '_c5', '_c6']"
      ]
     },
     "execution_count": 16,
     "metadata": {},
     "output_type": "execute_result"
    }
   ],
   "source": [
    "data_chunks1.columns"
   ]
  },
  {
   "cell_type": "code",
   "execution_count": 17,
   "id": "445e5d28",
   "metadata": {},
   "outputs": [],
   "source": [
    "# rename the columns\n",
    "old_columns = data_chunks1.columns\n",
    "new_columns = ['cnpj_basico', 'razao_social','natureza_juridica','qualificacao','capital_social', 'porte_empresa','responsavel']\n",
    "\n",
    "def renameCols1(df1, old_columns1, new_columns1):\n",
    "    for old_col,new_col in zip(old_columns1,new_columns1):\n",
    "        df1 = df1.withColumnRenamed(old_col,new_col)\n",
    "    return df1\n",
    "\n",
    "df1 = renameCols1(data_chunks1, old_columns, new_columns)"
   ]
  },
  {
   "cell_type": "code",
   "execution_count": 18,
   "id": "47919d81",
   "metadata": {},
   "outputs": [
    {
     "name": "stdout",
     "output_type": "stream",
     "text": [
      "+-----------+--------------------+-----------------+------------+--------------+-------------+-----------+\n",
      "|cnpj_basico|        razao_social|natureza_juridica|qualificacao|capital_social|porte_empresa|responsavel|\n",
      "+-----------+--------------------+-----------------+------------+--------------+-------------+-----------+\n",
      "|   41273596|RODRIGO JOSE FERR...|             2135|          50|      10000,00|           01|       null|\n",
      "|   41273597|PACHARRUS QUEIROZ...|             2135|          50|       5000,00|           01|       null|\n",
      "|   41273598|GLORIA VIANA DIAS...|             2135|          50|       1100,00|           01|       null|\n",
      "|   41273599|ANA PAULA DA SILV...|             2135|          50|       2000,00|           01|       null|\n",
      "|   41273600|41.273.600 AVANIL...|             2135|          50|      50000,00|           01|       null|\n",
      "|   41273601|GABRIELA HELENA F...|             2135|          50|       2000,00|           01|       null|\n",
      "|   41273602|FABIO SOUZA DO RO...|             2135|          50|      15000,00|           01|       null|\n",
      "|   41273603|GRAFLINE ACESSORI...|             2062|          49|      10000,00|           01|       null|\n",
      "|   41273604|RUMO - ESTUDIO DE...|             2062|          49|      10000,00|           01|       null|\n",
      "|   41273605|WALLACE DE OLIVEI...|             2135|          50|       1000,00|           01|       null|\n",
      "|   41273606|MARCOS CESAR DE M...|             2135|          50|      72000,00|           01|       null|\n",
      "|   41273607|LAYANE SCARLETT D...|             2135|          50|          1,00|           01|       null|\n",
      "|   41273608|FRANCISCA SAMPAIO...|             2135|          50|          0,00|           01|       null|\n",
      "|   41273609|INGRID DIAS ALVES...|             2135|          50|      10000,00|           01|       null|\n",
      "|   41273610|DAIANE DE SOUZA 0...|             2135|          50|       2500,00|           01|       null|\n",
      "|   41273611|RENATO MOREIRA DA...|             2135|          50|       2000,00|           01|       null|\n",
      "|   41273612|ELLEN FABIANI SOU...|             2062|          49|       1000,00|           01|       null|\n",
      "|   41273613|ICARO SALAZAR FAR...|             2135|          50|       1000,00|           01|       null|\n",
      "|   41273614|SERGIO BUENO DE F...|             2135|          50|       4000,00|           01|       null|\n",
      "|   41273615|FELIPE FERREIRA D...|             2135|          50|       5000,00|           01|       null|\n",
      "+-----------+--------------------+-----------------+------------+--------------+-------------+-----------+\n",
      "only showing top 20 rows\n",
      "\n"
     ]
    }
   ],
   "source": [
    "df1.show()"
   ]
  },
  {
   "cell_type": "code",
   "execution_count": 19,
   "id": "4ac8bc66",
   "metadata": {},
   "outputs": [],
   "source": [
    "# Realizar uma junção (join) com o DataFrame df1 usando a coluna comum 'cnpj_basico'\n",
    "result_df = data_filtered.join(df1, on='cnpj_basico', how='left_outer')"
   ]
  },
  {
   "cell_type": "code",
   "execution_count": 20,
   "id": "0f9050e1",
   "metadata": {},
   "outputs": [
    {
     "name": "stderr",
     "output_type": "stream",
     "text": [
      "[Stage 16:===========================================>              (3 + 1) / 4]\r"
     ]
    },
    {
     "name": "stdout",
     "output_type": "stream",
     "text": [
      "+-----------+----------+-------+----------------+--------------------+------------------+-----------------------+-------------------------+-------------+----+---------------------+--------+--------------------+---------------+--------------------+------+-----------------+--------------+--------+---+---------+----+---------+----+---------+-------+--------+--------------------+-----------------+----------------------+------------+-----------------+------------+--------------+-------------+-----------+\n",
      "|cnpj_basico|cnpj_ordem|cnpj_dv|id_matriz_filial|       nome_fantasia|situacao_cadastral|data_situacao_cadastral|motivo_situacao_cadastral|nome_exterior|pais|data_inicio_atividade|cnae_pri|            cnae_sec|tipo_logradouro|          logradouro|numero|      complemento|        bairro|     cep| uf|municipio| dd1|telefone1| dd2|telefone2|ddd_fax|     fax|               email|situacao_especial|data_situacao_especial|razao_social|natureza_juridica|qualificacao|capital_social|porte_empresa|responsavel|\n",
      "+-----------+----------+-------+----------------+--------------------+------------------+-----------------------+-------------------------+-------------+----+---------------------+--------+--------------------+---------------+--------------------+------+-----------------+--------------+--------+---+---------+----+---------+----+---------+-------+--------+--------------------+-----------------+----------------------+------------+-----------------+------------+--------------+-------------+-----------+\n",
      "|   02026820|      0001|     88|               1|                null|                04|               20190326|                       63|         null|null|             19970811| 8121400|     8111700,8129000|            RUA|CONEGO LUIZ WANDE...|    47|          LETRA A|    LAGOA NOVA|59054620| RN|     1761|  84| 32235356|null|     null|   null|    null|grupogarra@ig.com.br|             null|                  null|        null|             null|        null|          null|         null|       null|\n",
      "|   07316325|      0001|     27|               1|EMSERFAL -EMPRESA...|                02|               20050331|                       00|         null|null|             20050331| 8121400|     8129000,4330404|            RUA|    PRIMEIRO DE MAIO|   769|             null|   CIDADE NOVA|59072680| RN|     1761|  84|  2110042|null|     null|   null|    null|                null|             null|                  null|        null|             null|        null|          null|         null|       null|\n",
      "|   11573006|      0001|     74|               1|                null|                04|               20210423|                       63|         null|null|             20100219| 8121400|                null|            RUA|       JOAO PAULO II|    36|             null|   CIDADE NOVA|59072720| RN|     1761|  84| 32054283|null|     null|   null|    null|                null|             null|                  null|        null|             null|        null|          null|         null|       null|\n",
      "|   24194896|      0001|     55|               1|                null|                08|               20040903|                       01|         null|null|             19890123| 8121400|             8129000|            RUA|        DAS AMAPOLAS|   516|CONJUNTO MIRASSOL|    LAGOA NOVA|59078150| RN|     1761|null|     null|null|     null|   null|    null|                null|             null|                  null|        null|             null|        null|          null|         null|       null|\n",
      "|   10541061|      0001|     10|               1|                null|                02|               20081211|                       00|         null|null|             20081211| 8121400|9700500,5223100,4...|        AVENIDA|      RIO BRANCO 571|   571|       SALA: 405;|   CIDADE ALTA|59025906| RN|     1761|  84| 30825119|null|     null|   null|    null|NVIEIRA2004@YAHOO...|             null|                  null|        null|             null|        null|          null|         null|       null|\n",
      "|   12746772|      0001|     56|               1|                null|                08|               20081231|                       71|         null|null|             19871218| 8121400|             8129000|            RUA|     HEITOR CARRILHO|   104|         SALA 104|   CIDADE ALTA|59025320| RN|     1761|null|     null|null|     null|   null|    null|                null|             null|                  null|        null|             null|        null|          null|         null|       null|\n",
      "|   14235128|      0001|     49|               1|                null|                08|               20220801|                       01|         null|null|             20110901| 8121400|             8111700|            RUA|       DAS ORQUIDEAS|   699|                3|   CAPIM MACIO|59078170| RN|     1761|  84| 32033165|  84| 32033165|     84|32033165|MARIO.JUNIOR@CAPU...|             null|                  null|        null|             null|        null|          null|         null|       null|\n",
      "|   18072540|      0001|     46|               1|F A LIMPEZA E CON...|                08|               20200924|                       01|         null|null|             20130503| 8121400|             8129000|            RUA|           ARARANGUA|   310|             null|       POTENGI|59124350| RN|     1761|  84| 88449498|null|     null|   null|    null|wiperlimpezadevid...|             null|                  null|        null|             null|        null|          null|         null|       null|\n",
      "|   02326559|      0001|     31|               1|             COMLIMP|                04|               20181107|                       63|         null|null|             19980120| 8121400|             8129000|            RUA|        IRMA ALOISIA|   105|             null|        CENTRO|59592000| RN|     0414|null|     null|null|     null|   null|    null|                null|             null|                  null|        null|             null|        null|          null|         null|       null|\n",
      "|   07360290|      0005|     57|               2|              SERVAL|                02|               20060529|                       00|         null|null|             20060529| 8121400|             7810800|        AVENIDA|     RODRIGUES ALVES|   930|         SALA 229|         TIROL|59020200| RN|     1761|  85| 34828200|  85| 40059055|     85|32425481|                null|             null|                  null|        null|             null|        null|          null|         null|       null|\n",
      "|   12905570|      0001|     00|               1|RN CLEAN LIMPEZA ...|                08|               20110620|                       01|         null|null|             20101122| 8121400|4330499,4311802,8...|            RUA|       MONTE CARMELO|  2938|    CONJ  PIRANGI|      NEOPOLIS|59086490| RN|     1761|  84| 32236894|null|     null|   null|    null|rogeriorpaulo@hot...|             null|                  null|        null|             null|        null|          null|         null|       null|\n",
      "|   01380152|      0001|     20|               1|        T.G. SERVIOS|                08|               20150209|                       73|         null|null|             19960821| 8121400|             8129000|            RUA|          GRANJA ABC|    17|             null|FELIPE CAMARAO|59068280| RN|     1761|null|     null|null|     null|   null|    null|                null|             null|                  null|        null|             null|        null|          null|         null|       null|\n",
      "|   04028488|      0001|     16|               1|      J. M. SERVICOS|                08|               20150209|                       73|         null|null|             20000904| 8121400|             8129000|            RUA|      XV DE NOVEMBRO|  590A|             null|    DOM ELIZEU|59650000| RN|     1603|null|     null|null|     null|   null|    null|                null|             null|                  null|        null|             null|        null|          null|         null|       null|\n",
      "|   08836478|      0001|     68|               1|F G PRESTADORA DE...|                08|               20150209|                       73|         null|null|             20070518| 8121400|4311802,8129000,4...|            RUA|          JOAO XXIII|  1175|                A|     MAE LUIZA|59014000| RN|     1761|  84| 30917925|null|     null|   null|    null|                null|             null|                  null|        null|             null|        null|          null|         null|       null|\n",
      "|   10698595|      0001|     54|               1|        SEMPRE VIVAS|                08|               20081231|                       71|         null|null|             19860422| 8121400|             8129000|            RUA|DR ALMIR DE A CASTRO|   518|             null|        CENTRO|59610010| RN|     1759|null|     null|null|     null|   null|    null|                null|             null|                  null|        null|             null|        null|          null|         null|       null|\n",
      "|   40811465|      0001|     47|               1|                null|                08|               20040903|                       01|         null|null|             19921217| 8121400|             8129000|            RUA|       SANTO ANTONIO|    12|             null|        CENTRO|59510000| RN|     1605|null|     null|null|     null|   null|    null|                null|             null|                  null|        null|             null|        null|          null|         null|       null|\n",
      "|   02224312|      0001|     04|               1|CARVALHO COBRANCA...|                08|               20071110|                       01|         null|null|             19971110| 8121400|             8129000|            RUA|     MACIEL PINHEIRO|   508|             null|      NORDESTE|59042280| RN|     1761| 084|  7532004|null|     null|   null|    null|                null|             null|                  null|        null|             null|        null|          null|         null|       null|\n",
      "|   12646063|      0001|     07|               1|               CLEAN|                04|               20210423|                       63|         null|null|             19870707| 8121400|             8129000|        AVENIDA|    ALBERTO MARANHAO|  1187|             null|       PARAIBA|59610000| RN|     1759|null|     null|null|     null|   null|    null|                null|             null|                  null|        null|             null|        null|          null|         null|       null|\n",
      "|   12975876|      0001|     32|               1|SOCORRO A DOMICIL...|                08|               20081231|                       71|         null|null|             19880318| 8121400|             8129000|            RUA|VOLUNTARIOS DA PA...|   780|             null|        CENTRO|59025530| RN|     1761|null|     null|null|     null|   null|    null|                null|             null|                  null|        null|             null|        null|          null|         null|       null|\n",
      "|   13075766|      0001|     87|               1|            PRESTCOM|                02|               20101229|                       00|         null|null|             20101229| 8121400|8129000,4330499,8...|            RUA|DES. DIONISIO FIL...|   544|         SALA  01|        CENTRO|59610090| RN|     1759|  84| 88189864|null|     null|   null|    null|lizetecontabil@ho...|             null|                  null|        null|             null|        null|          null|         null|       null|\n",
      "+-----------+----------+-------+----------------+--------------------+------------------+-----------------------+-------------------------+-------------+----+---------------------+--------+--------------------+---------------+--------------------+------+-----------------+--------------+--------+---+---------+----+---------+----+---------+-------+--------+--------------------+-----------------+----------------------+------------+-----------------+------------+--------------+-------------+-----------+\n",
      "only showing top 20 rows\n",
      "\n"
     ]
    },
    {
     "name": "stderr",
     "output_type": "stream",
     "text": [
      "                                                                                \r"
     ]
    }
   ],
   "source": [
    "result_df.show()"
   ]
  },
  {
   "cell_type": "code",
   "execution_count": 26,
   "id": "31c17614",
   "metadata": {},
   "outputs": [],
   "source": [
    "# Reduzir o número de partições para 1 antes de salvar\n",
    "data_filtered_single_partition = result_df.coalesce(1)"
   ]
  },
  {
   "cell_type": "code",
   "execution_count": 27,
   "id": "e29d6e25",
   "metadata": {},
   "outputs": [
    {
     "name": "stderr",
     "output_type": "stream",
     "text": [
      "                                                                                \r"
     ]
    }
   ],
   "source": [
    "data_filtered_single_partition.write.format(\"csv\") \\\n",
    "    .mode(\"overwrite\") \\\n",
    "    .option(\"header\", True) \\\n",
    "    .save(\"/opt/workspace/dataout/\")"
   ]
  },
  {
   "cell_type": "code",
   "execution_count": 23,
   "id": "3f34cc78",
   "metadata": {},
   "outputs": [
    {
     "name": "stderr",
     "output_type": "stream",
     "text": [
      "                                                                                \r"
     ]
    }
   ],
   "source": [
    "result_df.write.format('jdbc').options(\n",
    "      url='jdbc:postgresql://172.22.0.2:5432/teste_db',\n",
    "      driver='org.postgresql.Driver',\n",
    "      dbtable='empresas',\n",
    "      user='root',\n",
    "      password='root').mode('append').save()"
   ]
  },
  {
   "cell_type": "code",
   "execution_count": null,
   "metadata": {},
   "outputs": [],
   "source": [
    "spark.stop()"
   ]
  }
 ],
 "metadata": {
  "kernelspec": {
   "display_name": "Python 3 (ipykernel)",
   "language": "python",
   "name": "python3"
  },
  "language_info": {
   "codemirror_mode": {
    "name": "ipython",
    "version": 3
   },
   "file_extension": ".py",
   "mimetype": "text/x-python",
   "name": "python",
   "nbconvert_exporter": "python",
   "pygments_lexer": "ipython3",
   "version": "3.9.2"
  }
 },
 "nbformat": 4,
 "nbformat_minor": 5
}
